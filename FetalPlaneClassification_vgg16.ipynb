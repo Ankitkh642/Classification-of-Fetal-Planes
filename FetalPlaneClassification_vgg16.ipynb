{
  "nbformat": 4,
  "nbformat_minor": 0,
  "metadata": {
    "accelerator": "GPU",
    "colab": {
      "name": "FetalPlaneClassification_vgg16.ipynb",
      "provenance": [],
      "collapsed_sections": [
        "GTfI3qXdN3iS",
        "fGrlssAJOK3V",
        "CK9fcYc1OVR8",
        "XJ-j1oFnO4Id",
        "dMYV-oIuPXJt",
        "M7qvUSl8PfTe"
      ]
    },
    "kernelspec": {
      "display_name": "Python 3",
      "language": "python",
      "name": "python3"
    },
    "language_info": {
      "codemirror_mode": {
        "name": "ipython",
        "version": 3
      },
      "file_extension": ".py",
      "mimetype": "text/x-python",
      "name": "python",
      "nbconvert_exporter": "python",
      "pygments_lexer": "ipython3",
      "version": "3.8.5"
    }
  },
  "cells": [
    {
      "cell_type": "markdown",
      "metadata": {
        "id": "GTfI3qXdN3iS"
      },
      "source": [
        "### Importing Libraries"
      ]
    },
    {
      "cell_type": "code",
      "metadata": {
        "id": "GOkcgF3zyaVV"
      },
      "source": [
        "from keras.layers import Input, Lambda, Dense, Flatten\n",
        "from keras.models import Model\n",
        "from keras.applications.vgg16 import VGG16\n",
        "from keras.applications.vgg16 import preprocess_input\n",
        "from keras.preprocessing import image\n",
        "from keras.preprocessing.image import ImageDataGenerator\n",
        "from keras.models import Sequential\n",
        "import numpy as np\n",
        "from glob import glob\n",
        "import matplotlib.pyplot as plt"
      ],
      "execution_count": 2,
      "outputs": []
    },
    {
      "cell_type": "code",
      "metadata": {
        "id": "OepdkhkoyaVb"
      },
      "source": [
        "# re-size all the images to this\n",
        "IMAGE_SIZE = [224, 224]"
      ],
      "execution_count": 3,
      "outputs": []
    },
    {
      "cell_type": "code",
      "metadata": {
        "id": "nsUh3FrhypvT"
      },
      "source": [
        "# Importing the dataset from drive\n",
        "from google.colab import drive\n",
        "drive.mount('/content/drive')"
      ],
      "execution_count": null,
      "outputs": []
    },
    {
      "cell_type": "markdown",
      "metadata": {
        "id": "fGrlssAJOK3V"
      },
      "source": [
        "### Train and Validation Path"
      ]
    },
    {
      "cell_type": "code",
      "metadata": {
        "id": "frrLYx18yaVc"
      },
      "source": [
        "train_path = '/content/drive/MyDrive/DataSet/Train'\n",
        "valid_path = '/content/drive/MyDrive/DataSet/Validation'"
      ],
      "execution_count": 4,
      "outputs": []
    },
    {
      "cell_type": "markdown",
      "metadata": {
        "id": "CK9fcYc1OVR8"
      },
      "source": [
        "### Model Formation"
      ]
    },
    {
      "cell_type": "code",
      "metadata": {
        "id": "2B8gaXeVyaVd",
        "scrolled": true,
        "colab": {
          "base_uri": "https://localhost:8080/"
        },
        "outputId": "e634b4e8-680e-4ee9-9387-40794cccce2c"
      },
      "source": [
        "# add preprocessing layer to the front of VGG\n",
        "vgg = VGG16(input_shape=IMAGE_SIZE + [3], weights='imagenet', include_top=False)\n",
        "print(vgg.output)"
      ],
      "execution_count": 7,
      "outputs": [
        {
          "output_type": "stream",
          "text": [
            "KerasTensor(type_spec=TensorSpec(shape=(None, 7, 7, 512), dtype=tf.float32, name=None), name='block5_pool/MaxPool:0', description=\"created by layer 'block5_pool'\")\n"
          ],
          "name": "stdout"
        }
      ]
    },
    {
      "cell_type": "code",
      "metadata": {
        "id": "A0CU--tqyaVe"
      },
      "source": [
        "# don't train existing weights\n",
        "for layer in vgg.layers:\n",
        "    layer.trainable = False"
      ],
      "execution_count": null,
      "outputs": []
    },
    {
      "cell_type": "code",
      "metadata": {
        "id": "3yWBG-wWyaVe"
      },
      "source": [
        "# Number of classes\n",
        "folders = glob('/content/drive/MyDrive/DataSet/Train/*')"
      ],
      "execution_count": null,
      "outputs": []
    },
    {
      "cell_type": "code",
      "metadata": {
        "id": "6y6B49MpyaVf",
        "colab": {
          "base_uri": "https://localhost:8080/"
        },
        "outputId": "1dca4763-a127-432d-b26a-250728f4796e"
      },
      "source": [
        "# Our layers\n",
        "x = Flatten()(vgg.output)"
      ],
      "execution_count": 8,
      "outputs": [
        {
          "output_type": "stream",
          "text": [
            "KerasTensor(type_spec=TensorSpec(shape=(None, 25088), dtype=tf.float32, name=None), name='flatten/Reshape:0', description=\"created by layer 'flatten'\")\n"
          ],
          "name": "stdout"
        }
      ]
    },
    {
      "cell_type": "code",
      "metadata": {
        "id": "C7DWttaLyaVg"
      },
      "source": [
        "prediction = Dense(len(folders), activation='softmax')(x)"
      ],
      "execution_count": null,
      "outputs": []
    },
    {
      "cell_type": "code",
      "metadata": {
        "id": "QgNzncmWyaVh"
      },
      "source": [
        "# Creating a model object\n",
        "model = Model(inputs=vgg.input, outputs=prediction)"
      ],
      "execution_count": null,
      "outputs": []
    },
    {
      "cell_type": "code",
      "metadata": {
        "colab": {
          "base_uri": "https://localhost:8080/"
        },
        "id": "NnKy6UaAyaVh",
        "outputId": "725d520a-5743-4c96-bd41-28114b268736"
      },
      "source": [
        "# View the structure of the model\n",
        "model.summary()"
      ],
      "execution_count": null,
      "outputs": [
        {
          "output_type": "stream",
          "text": [
            "Model: \"model\"\n",
            "_________________________________________________________________\n",
            "Layer (type)                 Output Shape              Param #   \n",
            "=================================================================\n",
            "input_1 (InputLayer)         [(None, 224, 224, 3)]     0         \n",
            "_________________________________________________________________\n",
            "block1_conv1 (Conv2D)        (None, 224, 224, 64)      1792      \n",
            "_________________________________________________________________\n",
            "block1_conv2 (Conv2D)        (None, 224, 224, 64)      36928     \n",
            "_________________________________________________________________\n",
            "block1_pool (MaxPooling2D)   (None, 112, 112, 64)      0         \n",
            "_________________________________________________________________\n",
            "block2_conv1 (Conv2D)        (None, 112, 112, 128)     73856     \n",
            "_________________________________________________________________\n",
            "block2_conv2 (Conv2D)        (None, 112, 112, 128)     147584    \n",
            "_________________________________________________________________\n",
            "block2_pool (MaxPooling2D)   (None, 56, 56, 128)       0         \n",
            "_________________________________________________________________\n",
            "block3_conv1 (Conv2D)        (None, 56, 56, 256)       295168    \n",
            "_________________________________________________________________\n",
            "block3_conv2 (Conv2D)        (None, 56, 56, 256)       590080    \n",
            "_________________________________________________________________\n",
            "block3_conv3 (Conv2D)        (None, 56, 56, 256)       590080    \n",
            "_________________________________________________________________\n",
            "block3_pool (MaxPooling2D)   (None, 28, 28, 256)       0         \n",
            "_________________________________________________________________\n",
            "block4_conv1 (Conv2D)        (None, 28, 28, 512)       1180160   \n",
            "_________________________________________________________________\n",
            "block4_conv2 (Conv2D)        (None, 28, 28, 512)       2359808   \n",
            "_________________________________________________________________\n",
            "block4_conv3 (Conv2D)        (None, 28, 28, 512)       2359808   \n",
            "_________________________________________________________________\n",
            "block4_pool (MaxPooling2D)   (None, 14, 14, 512)       0         \n",
            "_________________________________________________________________\n",
            "block5_conv1 (Conv2D)        (None, 14, 14, 512)       2359808   \n",
            "_________________________________________________________________\n",
            "block5_conv2 (Conv2D)        (None, 14, 14, 512)       2359808   \n",
            "_________________________________________________________________\n",
            "block5_conv3 (Conv2D)        (None, 14, 14, 512)       2359808   \n",
            "_________________________________________________________________\n",
            "block5_pool (MaxPooling2D)   (None, 7, 7, 512)         0         \n",
            "_________________________________________________________________\n",
            "flatten (Flatten)            (None, 25088)             0         \n",
            "_________________________________________________________________\n",
            "dense (Dense)                (None, 6)                 150534    \n",
            "=================================================================\n",
            "Total params: 14,865,222\n",
            "Trainable params: 150,534\n",
            "Non-trainable params: 14,714,688\n",
            "_________________________________________________________________\n"
          ],
          "name": "stdout"
        }
      ]
    },
    {
      "cell_type": "code",
      "metadata": {
        "id": "r_A1z89_yaVk"
      },
      "source": [
        "# Compile defines the loss function, the optimizer and the metrics of the loaded model.\n",
        "# Config the model with losses and metrics.\n",
        "model.compile(loss = 'categorical_crossentropy', optimizer = 'adam', metrics = ['accuracy'])"
      ],
      "execution_count": null,
      "outputs": []
    },
    {
      "cell_type": "markdown",
      "metadata": {
        "id": "XJ-j1oFnO4Id"
      },
      "source": [
        "### Data Augmentation"
      ]
    },
    {
      "cell_type": "code",
      "metadata": {
        "id": "tOu9T0i_yaVl"
      },
      "source": [
        "train_datagen = ImageDataGenerator(rescale = 1./255,\n",
        "                                   shear_range = 0.2,\n",
        "                                   zoom_range = 0.2,\n",
        "                                   horizontal_flip = True)"
      ],
      "execution_count": null,
      "outputs": []
    },
    {
      "cell_type": "code",
      "metadata": {
        "id": "-qMATF3NyaVm"
      },
      "source": [
        "test_datagen = ImageDataGenerator(rescale = 1./255)"
      ],
      "execution_count": null,
      "outputs": []
    },
    {
      "cell_type": "code",
      "metadata": {
        "colab": {
          "base_uri": "https://localhost:8080/"
        },
        "id": "PnyHbWASyaVm",
        "outputId": "b6c08db6-7f04-4c96-e86a-7651a32c0820"
      },
      "source": [
        "training_set = train_datagen.flow_from_directory('/content/drive/MyDrive/DataSet/Train',\n",
        "                                                 target_size = (224, 224),\n",
        "                                                 batch_size = 32,\n",
        "                                                 class_mode = 'categorical')"
      ],
      "execution_count": null,
      "outputs": [
        {
          "output_type": "stream",
          "text": [
            "Found 1800 images belonging to 6 classes.\n"
          ],
          "name": "stdout"
        }
      ]
    },
    {
      "cell_type": "code",
      "metadata": {
        "colab": {
          "base_uri": "https://localhost:8080/"
        },
        "id": "6qYfcjBdyaVn",
        "outputId": "e8b57daf-6a32-422f-921c-4f61c588b2a1"
      },
      "source": [
        "test_set = test_datagen.flow_from_directory('/content/drive/MyDrive/DataSet/Validation',\n",
        "                                            target_size = (224, 224),\n",
        "                                            batch_size = 32,\n",
        "                                            class_mode = 'categorical')"
      ],
      "execution_count": null,
      "outputs": [
        {
          "output_type": "stream",
          "text": [
            "Found 539 images belonging to 6 classes.\n"
          ],
          "name": "stdout"
        }
      ]
    },
    {
      "cell_type": "markdown",
      "metadata": {
        "id": "dMYV-oIuPXJt"
      },
      "source": [
        "### Training the Model"
      ]
    },
    {
      "cell_type": "code",
      "metadata": {
        "colab": {
          "base_uri": "https://localhost:8080/"
        },
        "id": "JG56A1_FyaVn",
        "scrolled": false,
        "outputId": "b5012ba3-5577-4bec-de42-98645bac0088"
      },
      "source": [
        "r = model.fit_generator(\n",
        "    training_set,\n",
        "    validation_data = test_set,\n",
        "    epochs = 50,\n",
        "    steps_per_epoch = len(training_set),\n",
        "    validation_steps = len(test_set)\n",
        ")"
      ],
      "execution_count": null,
      "outputs": [
        {
          "output_type": "stream",
          "text": [
            "/usr/local/lib/python3.7/dist-packages/keras/engine/training.py:1915: UserWarning: `Model.fit_generator` is deprecated and will be removed in a future version. Please use `Model.fit`, which supports generators.\n",
            "  warnings.warn('`Model.fit_generator` is deprecated and '\n"
          ],
          "name": "stderr"
        },
        {
          "output_type": "stream",
          "text": [
            "Epoch 1/50\n",
            "57/57 [==============================] - 498s 8s/step - loss: 1.2163 - accuracy: 0.5555 - val_loss: 0.7629 - val_accuracy: 0.7477\n",
            "Epoch 2/50\n",
            "57/57 [==============================] - 35s 621ms/step - loss: 0.4500 - accuracy: 0.8482 - val_loss: 0.6530 - val_accuracy: 0.7532\n",
            "Epoch 3/50\n",
            "57/57 [==============================] - 35s 619ms/step - loss: 0.3973 - accuracy: 0.8649 - val_loss: 1.0168 - val_accuracy: 0.6994\n",
            "Epoch 4/50\n",
            "57/57 [==============================] - 35s 621ms/step - loss: 0.3365 - accuracy: 0.8767 - val_loss: 0.5532 - val_accuracy: 0.8163\n",
            "Epoch 5/50\n",
            "57/57 [==============================] - 35s 625ms/step - loss: 0.2468 - accuracy: 0.9203 - val_loss: 0.6347 - val_accuracy: 0.7978\n",
            "Epoch 6/50\n",
            "57/57 [==============================] - 35s 623ms/step - loss: 0.2036 - accuracy: 0.9366 - val_loss: 0.5582 - val_accuracy: 0.8071\n",
            "Epoch 7/50\n",
            "57/57 [==============================] - 35s 621ms/step - loss: 0.1864 - accuracy: 0.9430 - val_loss: 0.6572 - val_accuracy: 0.7941\n",
            "Epoch 8/50\n",
            "57/57 [==============================] - 35s 620ms/step - loss: 0.1743 - accuracy: 0.9315 - val_loss: 0.6375 - val_accuracy: 0.7996\n",
            "Epoch 9/50\n",
            "57/57 [==============================] - 35s 625ms/step - loss: 0.1518 - accuracy: 0.9549 - val_loss: 0.6518 - val_accuracy: 0.7904\n",
            "Epoch 10/50\n",
            "57/57 [==============================] - 35s 619ms/step - loss: 0.1420 - accuracy: 0.9540 - val_loss: 0.5127 - val_accuracy: 0.8126\n",
            "Epoch 11/50\n",
            "57/57 [==============================] - 35s 620ms/step - loss: 0.1424 - accuracy: 0.9506 - val_loss: 0.6156 - val_accuracy: 0.7792\n",
            "Epoch 12/50\n",
            "57/57 [==============================] - 35s 620ms/step - loss: 0.1346 - accuracy: 0.9480 - val_loss: 0.6642 - val_accuracy: 0.7885\n",
            "Epoch 13/50\n",
            "57/57 [==============================] - 35s 617ms/step - loss: 0.1081 - accuracy: 0.9647 - val_loss: 0.9402 - val_accuracy: 0.7477\n",
            "Epoch 14/50\n",
            "57/57 [==============================] - 35s 618ms/step - loss: 0.1176 - accuracy: 0.9621 - val_loss: 0.6956 - val_accuracy: 0.7866\n",
            "Epoch 15/50\n",
            "57/57 [==============================] - 34s 613ms/step - loss: 0.1195 - accuracy: 0.9600 - val_loss: 0.7125 - val_accuracy: 0.8015\n",
            "Epoch 16/50\n",
            "57/57 [==============================] - 35s 618ms/step - loss: 0.0899 - accuracy: 0.9724 - val_loss: 0.7241 - val_accuracy: 0.8126\n",
            "Epoch 17/50\n",
            "57/57 [==============================] - 35s 630ms/step - loss: 0.0816 - accuracy: 0.9729 - val_loss: 0.5927 - val_accuracy: 0.8163\n",
            "Epoch 18/50\n",
            "57/57 [==============================] - 35s 627ms/step - loss: 0.0916 - accuracy: 0.9746 - val_loss: 0.6866 - val_accuracy: 0.7978\n",
            "Epoch 19/50\n",
            "57/57 [==============================] - 35s 620ms/step - loss: 0.1126 - accuracy: 0.9605 - val_loss: 0.6473 - val_accuracy: 0.7774\n",
            "Epoch 20/50\n",
            "57/57 [==============================] - 35s 616ms/step - loss: 0.0689 - accuracy: 0.9787 - val_loss: 0.6733 - val_accuracy: 0.8182\n",
            "Epoch 21/50\n",
            "57/57 [==============================] - 35s 621ms/step - loss: 0.0964 - accuracy: 0.9666 - val_loss: 0.7265 - val_accuracy: 0.7996\n",
            "Epoch 22/50\n",
            "57/57 [==============================] - 35s 617ms/step - loss: 0.0578 - accuracy: 0.9851 - val_loss: 0.6977 - val_accuracy: 0.8182\n",
            "Epoch 23/50\n",
            "57/57 [==============================] - 35s 623ms/step - loss: 0.0745 - accuracy: 0.9769 - val_loss: 0.7952 - val_accuracy: 0.8015\n",
            "Epoch 24/50\n",
            "57/57 [==============================] - 34s 612ms/step - loss: 0.0456 - accuracy: 0.9876 - val_loss: 0.7040 - val_accuracy: 0.8052\n",
            "Epoch 25/50\n",
            "57/57 [==============================] - 34s 611ms/step - loss: 0.0571 - accuracy: 0.9847 - val_loss: 0.7911 - val_accuracy: 0.7978\n",
            "Epoch 26/50\n",
            "57/57 [==============================] - 34s 611ms/step - loss: 0.0392 - accuracy: 0.9930 - val_loss: 0.5422 - val_accuracy: 0.8293\n",
            "Epoch 27/50\n",
            "57/57 [==============================] - 36s 635ms/step - loss: 0.0529 - accuracy: 0.9820 - val_loss: 0.7240 - val_accuracy: 0.8237\n",
            "Epoch 28/50\n",
            "57/57 [==============================] - 35s 621ms/step - loss: 0.0448 - accuracy: 0.9914 - val_loss: 0.6118 - val_accuracy: 0.7885\n",
            "Epoch 29/50\n",
            "57/57 [==============================] - 34s 609ms/step - loss: 0.0667 - accuracy: 0.9776 - val_loss: 0.7770 - val_accuracy: 0.7996\n",
            "Epoch 30/50\n",
            "57/57 [==============================] - 34s 610ms/step - loss: 0.0309 - accuracy: 0.9958 - val_loss: 0.5841 - val_accuracy: 0.8349\n",
            "Epoch 31/50\n",
            "57/57 [==============================] - 34s 608ms/step - loss: 0.0357 - accuracy: 0.9940 - val_loss: 0.6907 - val_accuracy: 0.8015\n",
            "Epoch 32/50\n",
            "57/57 [==============================] - 34s 611ms/step - loss: 0.0266 - accuracy: 0.9950 - val_loss: 0.7690 - val_accuracy: 0.8089\n",
            "Epoch 33/50\n",
            "57/57 [==============================] - 34s 610ms/step - loss: 0.0287 - accuracy: 0.9956 - val_loss: 0.7153 - val_accuracy: 0.8089\n",
            "Epoch 34/50\n",
            "57/57 [==============================] - 34s 607ms/step - loss: 0.0366 - accuracy: 0.9925 - val_loss: 0.7299 - val_accuracy: 0.7848\n",
            "Epoch 35/50\n",
            "57/57 [==============================] - 35s 616ms/step - loss: 0.0307 - accuracy: 0.9941 - val_loss: 0.7508 - val_accuracy: 0.8052\n",
            "Epoch 36/50\n",
            "57/57 [==============================] - 34s 611ms/step - loss: 0.0337 - accuracy: 0.9886 - val_loss: 0.7451 - val_accuracy: 0.7829\n",
            "Epoch 37/50\n",
            "57/57 [==============================] - 35s 615ms/step - loss: 0.0417 - accuracy: 0.9935 - val_loss: 0.6365 - val_accuracy: 0.8497\n",
            "Epoch 38/50\n",
            "57/57 [==============================] - 34s 610ms/step - loss: 0.0272 - accuracy: 0.9956 - val_loss: 0.7859 - val_accuracy: 0.8071\n",
            "Epoch 39/50\n",
            "57/57 [==============================] - 34s 611ms/step - loss: 0.0308 - accuracy: 0.9908 - val_loss: 0.8972 - val_accuracy: 0.7885\n",
            "Epoch 40/50\n",
            "57/57 [==============================] - 34s 611ms/step - loss: 0.0426 - accuracy: 0.9871 - val_loss: 0.7367 - val_accuracy: 0.7941\n",
            "Epoch 41/50\n",
            "57/57 [==============================] - 35s 623ms/step - loss: 0.0286 - accuracy: 0.9919 - val_loss: 0.7055 - val_accuracy: 0.8052\n",
            "Epoch 42/50\n",
            "57/57 [==============================] - 35s 632ms/step - loss: 0.0316 - accuracy: 0.9902 - val_loss: 0.7757 - val_accuracy: 0.8089\n",
            "Epoch 43/50\n",
            "57/57 [==============================] - 35s 630ms/step - loss: 0.0197 - accuracy: 0.9958 - val_loss: 0.6909 - val_accuracy: 0.7848\n",
            "Epoch 44/50\n",
            "57/57 [==============================] - 35s 629ms/step - loss: 0.0269 - accuracy: 0.9912 - val_loss: 0.7597 - val_accuracy: 0.7996\n",
            "Epoch 45/50\n",
            "57/57 [==============================] - 35s 620ms/step - loss: 0.0231 - accuracy: 0.9944 - val_loss: 0.7544 - val_accuracy: 0.7978\n",
            "Epoch 46/50\n",
            "57/57 [==============================] - 35s 627ms/step - loss: 0.0202 - accuracy: 0.9961 - val_loss: 0.8132 - val_accuracy: 0.7922\n",
            "Epoch 47/50\n",
            "57/57 [==============================] - 35s 626ms/step - loss: 0.0181 - accuracy: 0.9962 - val_loss: 0.8157 - val_accuracy: 0.8237\n",
            "Epoch 48/50\n",
            "57/57 [==============================] - 35s 617ms/step - loss: 0.0219 - accuracy: 0.9955 - val_loss: 0.8142 - val_accuracy: 0.8089\n",
            "Epoch 49/50\n",
            "57/57 [==============================] - 35s 623ms/step - loss: 0.0237 - accuracy: 0.9939 - val_loss: 0.8039 - val_accuracy: 0.8312\n",
            "Epoch 50/50\n",
            "57/57 [==============================] - 35s 624ms/step - loss: 0.0347 - accuracy: 0.9893 - val_loss: 0.7822 - val_accuracy: 0.7959\n"
          ],
          "name": "stdout"
        }
      ]
    },
    {
      "cell_type": "markdown",
      "metadata": {
        "id": "M7qvUSl8PfTe"
      },
      "source": [
        "### Evaluation"
      ]
    },
    {
      "cell_type": "code",
      "metadata": {
        "colab": {
          "base_uri": "https://localhost:8080/",
          "height": 282
        },
        "id": "govTdlDEyaVo",
        "outputId": "6e62299f-4bf5-4631-a639-589adbf3460d"
      },
      "source": [
        "plt.plot(r.history['loss'], label='train loss')\n",
        "plt.plot(r.history['val_loss'], label='val loss')\n",
        "plt.legend()\n",
        "plt.show()\n",
        "plt.savefig('LossVal_loss')"
      ],
      "execution_count": null,
      "outputs": [
        {
          "output_type": "display_data",
          "data": {
            "image/png": "[encoded data removed]",
            "text/plain": [
              "<Figure size 432x288 with 1 Axes>"
            ]
          },
          "metadata": {
            "tags": [],
            "needs_background": "light"
          }
        },
        {
          "output_type": "display_data",
          "data": {
            "text/plain": [
              "<Figure size 432x288 with 0 Axes>"
            ]
          },
          "metadata": {
            "tags": []
          }
        }
      ]
    },
    {
      "cell_type": "code",
      "metadata": {
        "colab": {
          "base_uri": "https://localhost:8080/",
          "height": 312
        },
        "id": "ofaqcSYWyaVo",
        "outputId": "f94a02ce-9641-44bb-8709-1e634e95210d"
      },
      "source": [
        "\n",
        "plt.figure(0)\n",
        "plt.plot(r.history['accuracy'], label = 'training accuracy')\n",
        "plt.plot(r.history['val_accuracy'], label = 'validation accuracy')\n",
        "plt.title('Accuracy v/s Epochs')\n",
        "plt.xlabel('epochs')\n",
        "plt.ylabel('accuracy')\n",
        "plt.legend()\n",
        "plt.show()\n",
        "plt.savefig('Accuracy')"
      ],
      "execution_count": null,
      "outputs": [
        {
          "output_type": "display_data",
          "data": {
            "image/png": "[encoded data removed]",
            "text/plain": [
              "<Figure size 432x288 with 1 Axes>"
            ]
          },
          "metadata": {
            "tags": [],
            "needs_background": "light"
          }
        },
        {
          "output_type": "display_data",
          "data": {
            "text/plain": [
              "<Figure size 432x288 with 0 Axes>"
            ]
          },
          "metadata": {
            "tags": []
          }
        }
      ]
    },
    {
      "cell_type": "code",
      "metadata": {
        "id": "Rp8VyHidyaVq"
      },
      "source": [
        ""
      ],
      "execution_count": null,
      "outputs": []
    }
  ]
}